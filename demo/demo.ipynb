{
 "cells": [
  {
   "cell_type": "code",
   "execution_count": 1,
   "metadata": {},
   "outputs": [
    {
     "data": {
      "text/plain": [
       "<BinaryView: 'usrnode.txt', start 0x100000000, len 0x1c3e8>"
      ]
     },
     "execution_count": 1,
     "metadata": {},
     "output_type": "execute_result"
    }
   ],
   "source": [
    "from binaryninja import *\n",
    "import time\n",
    "from Crypto.Cipher import AES\n",
    "bv = BinaryViewType.get_view_of_file('usrnode.txt')\n",
    "bv"
   ]
  },
  {
   "cell_type": "code",
   "execution_count": 2,
   "metadata": {},
   "outputs": [
    {
     "name": "stdout",
     "output_type": "stream",
     "text": [
      "Done!\n"
     ]
    }
   ],
   "source": [
    "ctx = PluginCommandContext(bv)\n",
    "PluginCommand.get_valid_list(ctx)['Objc\\\\Run all'].execute(ctx)\n",
    "while BackgroundTask.list:\n",
    "    time.sleep(1)\n",
    "print('Done!')"
   ]
  },
  {
   "cell_type": "code",
   "execution_count": 3,
   "metadata": {},
   "outputs": [],
   "source": [
    "cfstring = bv.get_type_by_name('CFString')\n",
    "info_offset = cfstring.structure['info'].offset\n",
    "buffer_offset = cfstring.structure['buffer'].offset\n",
    "br = BinaryReader(bv)\n",
    "def get_buffer(cf):\n",
    "    br.seek(cf+info_offset)\n",
    "    info = br.read64()\n",
    "    buffer = br.read64()\n",
    "    length = br.read64() * (2 if info == 0x7d0 else 1)\n",
    "    return bv.read(buffer, length)"
   ]
  },
  {
   "cell_type": "code",
   "execution_count": 5,
   "metadata": {},
   "outputs": [],
   "source": [
    "def decrypt_AES_strings(caller, key):\n",
    "    aes = AES.new(key, AES.MODE_ECB)\n",
    "    for xref in bv.get_code_refs(caller.start):\n",
    "        cf_ptr = xref.function.get_low_level_il_at(xref.address).mlil.params[2].constant\n",
    "        br.seek(cf_ptr + buffer_offset)\n",
    "        buffer = get_buffer(cf_ptr)\n",
    "        \n",
    "        decoded_buffer = Transform['Base64'].decode(buffer).encode('charmap')\n",
    "\n",
    "        decrypted_buffer = aes.decrypt(decoded_buffer)\n",
    "        print(f\"Decrypted buffer: {decrypted_buffer}\")"
   ]
  },
  {
   "cell_type": "code",
   "execution_count": 42,
   "metadata": {},
   "outputs": [
    {
     "name": "stdout",
     "output_type": "stream",
     "text": [
      "caller: -[AppDelegate yoop:]\n",
      "key_ptr: 100013480\n",
      "Encryption key: b'\\xc3\\xa6$&\\xc5\\x82\\xc5\\x81\\xc5\\x84\\xc5\\x9a\\xc5\\xbd~\\xc4\\x98?|!~<\\xc5\\x92\\x00\\x00\\x00\\x00\\x00\\x00\\x00\\x00'\n",
      "Decrypted buffer: b'http://flux2key.com/liaROelcOeVvfjN/fsfSQNrIyxeRvXH.php?very=%@&xnvk=%@         '\n",
      "Decrypted buffer: b'doc             '\n",
      "Decrypted buffer: b'docx            '\n",
      "Decrypted buffer: b'ppt             '\n",
      "Decrypted buffer: b'pdf             '\n",
      "Decrypted buffer: b'xls             '\n",
      "Decrypted buffer: b'xlsx            '\n",
      "Decrypted buffer: b'db              '\n",
      "Decrypted buffer: b'txt             '\n",
      "Decrypted buffer: b'rtf             '\n",
      "Decrypted buffer: b'pptx            '\n",
      "Decrypted buffer: b'string2me.com/qgHUDRZiYhOqQiN/kESklNvxsNZQcPl.php               '\n",
      "Decrypted buffer: b'/Library        '\n",
      "Decrypted buffer: b'tup             '\n",
      "Decrypted buffer: b'http://flux2key.com/liaROelcOeVvfjN/fsfSQNrIyxeRvXH.php?very=%@&runs=%@&ertw=%@ '\n",
      "Decrypted buffer: b'sow             '\n",
      "Decrypted buffer: b'http://flux2key.com/liaROelcOeVvfjN/            '\n",
      "Decrypted buffer: b'/Library        '\n",
      "Decrypted buffer: b'/usr/bin/ditto  '\n",
      "Decrypted buffer: b'.app            '\n",
      "Decrypted buffer: b'http://flux2key.com/liaROelcOeVvfjN/fsfSQNrIyxeRvXH.php?very=%@&runs=%@&ertw=%@&trifs=%@        '\n",
      "Decrypted buffer: b'http://flux2key.com/liaROelcOeVvfjN/fsfSQNrIyxeRvXH.php?very=%@&xnvk=%@         '\n",
      "caller: -[appdele yoop:]\n",
      "key_ptr: 100013480\n",
      "Encryption key: b'\\xc3\\xa6$&\\xc5\\x82\\xc5\\x81\\xc5\\x84\\xc5\\x9a\\xc5\\xbd~\\xc4\\x98?|!~<\\xc5\\x92\\x00\\x00\\x00\\x00\\x00\\x00\\x00\\x00'\n",
      "Decrypted buffer: b'http://flux2key.com/liaROelcOeVvfjN/fsfSQNrIyxeRvXH.php?very=%@&xnvk=%@         '\n",
      "Decrypted buffer: b'doc             '\n",
      "Decrypted buffer: b'docx            '\n",
      "Decrypted buffer: b'ppt             '\n",
      "Decrypted buffer: b'pdf             '\n",
      "Decrypted buffer: b'xls             '\n",
      "Decrypted buffer: b'xlsx            '\n",
      "Decrypted buffer: b'db              '\n",
      "Decrypted buffer: b'txt             '\n",
      "Decrypted buffer: b'rtf             '\n",
      "Decrypted buffer: b'pptx            '\n",
      "Decrypted buffer: b'string2me.com/qgHUDRZiYhOqQiN/kESklNvxsNZQcPl.php               '\n",
      "Decrypted buffer: b'/Library        '\n",
      "Decrypted buffer: b'tup             '\n",
      "Decrypted buffer: b'http://flux2key.com/liaROelcOeVvfjN/fsfSQNrIyxeRvXH.php?very=%@&runs=%@&ertw=%@ '\n",
      "Decrypted buffer: b'sow             '\n",
      "Decrypted buffer: b'http://flux2key.com/liaROelcOeVvfjN/            '\n",
      "Decrypted buffer: b'/Library        '\n",
      "Decrypted buffer: b'/usr/bin/ditto  '\n",
      "Decrypted buffer: b'.app            '\n",
      "Decrypted buffer: b'http://flux2key.com/liaROelcOeVvfjN/fsfSQNrIyxeRvXH.php?very=%@&runs=%@&ertw=%@&trifs=%@        '\n",
      "Decrypted buffer: b'http://flux2key.com/liaROelcOeVvfjN/fsfSQNrIyxeRvXH.php?very=%@&xnvk=%@         '\n"
     ]
    }
   ],
   "source": [
    "AESDecryptWithPassphrase = bv.get_symbols_by_name(\n",
    "    '-[NSData AESDecryptWithPassphrase:]'\n",
    ")[0]\n",
    "for xref in bv.get_code_refs(AESDecryptWithPassphrase.address):\n",
    "    xref_mlil = xref.function.get_low_level_il_at(xref.address).mlil\n",
    "    caller = xref.function\n",
    "    print(f\"caller: {caller.name}\")\n",
    "    key_ptr = xref_mlil.params[2].constant\n",
    "    print(f\"key_ptr: {key_ptr:x}\")\n",
    "    \n",
    "    key = get_buffer(key_ptr)\n",
    "    key = key.decode('utf-16').encode('utf-8')\n",
    "    key += b'\\x00' * (32 - len(key))\n",
    "    # key gets re-encoded as UTF-8, which is failing in python.\n",
    "    # Damn demo gods!\n",
    "    #key = b'\\xc3\\xa6$&\\xc5\\x82\\xc5\\x81\\xc5\\x84\\xc5\\x9a\\xc5\\xbd~\\xc4\\x98?|!~<\\xc5\\x92\\x00\\x00\\x00\\x00\\x00\\x00\\x00\\x00'\n",
    "    print(f\"Encryption key: {key}\")\n",
    "    decrypt_AES_strings(caller, key)"
   ]
  },
  {
   "cell_type": "code",
   "execution_count": 30,
   "metadata": {},
   "outputs": [
    {
     "data": {
      "text/plain": [
       "'æ$&łŁńŚŽ~Ę?|!~<Œ\\x00\\x00\\x00\\x00\\x00\\x00\\x00\\x00'"
      ]
     },
     "execution_count": 30,
     "metadata": {},
     "output_type": "execute_result"
    }
   ],
   "source": [
    "b'\\xc3\\xa6$&\\xc5\\x82\\xc5\\x81\\xc5\\x84\\xc5\\x9a\\xc5\\xbd~\\xc4\\x98?|!~<\\xc5\\x92\\x00\\x00\\x00\\x00\\x00\\x00\\x00\\x00'.decode(\n",
    "    'utf-8')"
   ]
  },
  {
   "cell_type": "code",
   "execution_count": 38,
   "metadata": {},
   "outputs": [
    {
     "data": {
      "text/plain": [
       "b'\\xc3\\xa6$&\\xc5\\x82\\xc5\\x81\\xc5\\x84\\xc5\\x9a\\xc5\\xbd~\\xc4\\x98?|!~<\\xc5\\x92'"
      ]
     },
     "execution_count": 38,
     "metadata": {},
     "output_type": "execute_result"
    }
   ],
   "source": [
    "b'\\xe6\\x00$\\x00&\\x00B\\x01A\\x01D\\x01Z\\x01}\\x01~\\x00\\x18\\x01?\\x00|\\x00!\\x00~\\x00<\\x00R\\x01'.decode('utf-16').encode('utf-8')"
   ]
  },
  {
   "cell_type": "code",
   "execution_count": 34,
   "metadata": {},
   "outputs": [
    {
     "data": {
      "text/plain": [
       "[230, 36, 38, 322, 321, 324, 346, 381, 126, 280, 63, 124, 33, 126, 60, 338]"
      ]
     },
     "execution_count": 34,
     "metadata": {},
     "output_type": "execute_result"
    }
   ],
   "source": [
    "list(map(ord, _))"
   ]
  },
  {
   "cell_type": "code",
   "execution_count": 35,
   "metadata": {},
   "outputs": [
    {
     "data": {
      "text/plain": [
       "[230,\n",
       " 36,\n",
       " 38,\n",
       " 322,\n",
       " 321,\n",
       " 324,\n",
       " 346,\n",
       " 381,\n",
       " 126,\n",
       " 280,\n",
       " 63,\n",
       " 124,\n",
       " 33,\n",
       " 126,\n",
       " 60,\n",
       " 338,\n",
       " 0,\n",
       " 0,\n",
       " 0,\n",
       " 0,\n",
       " 0,\n",
       " 0,\n",
       " 0,\n",
       " 0]"
      ]
     },
     "execution_count": 35,
     "metadata": {},
     "output_type": "execute_result"
    }
   ],
   "source": [
    "list(map(ord, b'\\xc3\\xa6$&\\xc5\\x82\\xc5\\x81\\xc5\\x84\\xc5\\x9a\\xc5\\xbd~\\xc4\\x98?|!~<\\xc5\\x92\\x00\\x00\\x00\\x00\\x00\\x00\\x00\\x00'.decode(\n",
    "    'utf-8')))"
   ]
  },
  {
   "cell_type": "code",
   "execution_count": 36,
   "metadata": {},
   "outputs": [
    {
     "data": {
      "text/plain": [
       "b'\\xc3\\xa6$&\\xc5\\x82\\xc5\\x81\\xc5\\x84\\xc5\\x9a\\xc5\\xbd~\\xc4\\x98?|!~<\\xc5\\x92'"
      ]
     },
     "execution_count": 36,
     "metadata": {},
     "output_type": "execute_result"
    }
   ],
   "source": [
    "'æ$&łŁńŚŽ~Ę?|!~<Œ'.encode('utf-8')"
   ]
  },
  {
   "cell_type": "code",
   "execution_count": 37,
   "metadata": {},
   "outputs": [
    {
     "data": {
      "text/plain": [
       "24"
      ]
     },
     "execution_count": 37,
     "metadata": {},
     "output_type": "execute_result"
    }
   ],
   "source": [
    "len(_)"
   ]
  },
  {
   "cell_type": "code",
   "execution_count": null,
   "metadata": {},
   "outputs": [],
   "source": []
  }
 ],
 "metadata": {
  "kernelspec": {
   "display_name": "Python 3",
   "language": "python",
   "name": "python3"
  },
  "language_info": {
   "codemirror_mode": {
    "name": "ipython",
    "version": 3
   },
   "file_extension": ".py",
   "mimetype": "text/x-python",
   "name": "python",
   "nbconvert_exporter": "python",
   "pygments_lexer": "ipython3",
   "version": "3.7.3"
  }
 },
 "nbformat": 4,
 "nbformat_minor": 2
}
